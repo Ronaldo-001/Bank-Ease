{
 "cells": [
  {
   "cell_type": "code",
   "execution_count": null,
   "metadata": {},
   "outputs": [],
   "source": [
    "!pip install easyocr opencv-python"
   ]
  },
  {
   "cell_type": "code",
   "execution_count": null,
   "metadata": {},
   "outputs": [],
   "source": [
    "import easyocr\n",
    "import cv2\n",
    "import re\n",
    "reader = easyocr.Reader(['en'])"
   ]
  },
  {
   "cell_type": "code",
   "execution_count": null,
   "metadata": {},
   "outputs": [],
   "source": [
    "def extract_details(image_path, card_type):\n",
    "    # Perform OCR on the image\n",
    "    recognition_results = reader.readtext(image_path, detail=0)\n",
    "    \n",
    "    # Combine all recognized text into a single string for processing\n",
    "    extracted_text = \" \".join(recognition_results)\n",
    "    \n",
    "    details = {}\n",
    "\n",
    "    if card_type.lower() == \"aadhaar\":\n",
    "        # Aadhaar extraction logic\n",
    "        name = None\n",
    "        dob = None\n",
    "        adh = None\n",
    "        sex = None\n",
    "        \n",
    "        # Determine gender\n",
    "        if 'female' in extracted_text.lower():\n",
    "            sex = \"FEMALE\"\n",
    "        else:\n",
    "            sex = \"MALE\"\n",
    "\n",
    "        # Extract DOB\n",
    "        try:\n",
    "            dob = re.search(r'\\d{2}/\\d{2}/\\d{4}', extracted_text).group()\n",
    "        except:\n",
    "            dob = \"Not Found\"\n",
    "\n",
    "        # Extract Aadhaar Number\n",
    "        try:\n",
    "            adh = re.search(r'\\d{4}\\s\\d{4}\\s\\d{4}', extracted_text).group()\n",
    "        except:\n",
    "            adh = \"Not Found\"\n",
    "\n",
    "        # Extract Name (scan all lines for potential names)\n",
    "        lines = extracted_text.split(',')\n",
    "        for line in lines:\n",
    "            line_cleaned = line.strip().replace('\\n', '').rstrip().lstrip()\n",
    "            if re.search(r'[A-Za-z]+\\s[A-Za-z]+', line_cleaned) and \"DOB\" not in line_cleaned and \"Male\" not in line_cleaned:\n",
    "                name = line_cleaned\n",
    "                break\n",
    "\n",
    "        # Clean Name\n",
    "        if name:\n",
    "            name = name.rstrip()\n",
    "            name = name.lstrip()\n",
    "            name = name.replace(\"8\", \"B\")\n",
    "            name = name.replace(\"0\", \"D\")\n",
    "            name = name.replace(\"6\", \"G\")\n",
    "            name = name.replace(\"1\", \"I\")\n",
    "            name = re.sub('[^a-zA-Z ]+', '', name)\n",
    "        else:\n",
    "            name = \"Not Found\"\n",
    "\n",
    "        details['Name'] = name if name else \"Not Found\"\n",
    "        details['Date of Birth'] = dob if dob else \"Not Found\"\n",
    "        details['Aadhaar Number'] = adh if adh else \"Not Found\"\n",
    "        details['Sex'] = sex if sex else \"Not Found\"\n",
    "    \n",
    "    elif card_type.lower() == \"pan\":\n",
    "        # PAN extraction logic (unchanged)\n",
    "        name_match = re.search(r'(?:Name|नाम)\\s*[:\\-]?\\s*([A-Z\\s]+)', extracted_text)\n",
    "        father_name_match = re.search(r\"(?:Father's Name|पिता का नाम)\\s*[:\\-]?\\s*([A-Z\\s]+)\", extracted_text)\n",
    "        dob_match = re.search(r'(?:Date of Birth|जन्म की तारीख)\\s*[:\\-]?\\s*(\\d{2}/\\d{2}/\\d{4})', extracted_text)\n",
    "        pan_number_match = re.search(r'[A-Z]{5}\\d{4}[A-Z]', extracted_text)\n",
    "        \n",
    "        details['Name'] = name_match.group(1).strip() if name_match else \"Not Found\"\n",
    "        details['Father\\'s Name'] = father_name_match.group(1).strip() if father_name_match else \"Not Found\"\n",
    "        details['DOB'] = dob_match.group(1).strip() if dob_match else \"Not Found\"\n",
    "        details['PAN Number'] = pan_number_match.group(0).strip() if pan_number_match else \"Not Found\"\n",
    "\n",
    "    return details"
   ]
  },
  {
   "cell_type": "code",
   "execution_count": null,
   "metadata": {},
   "outputs": [],
   "source": [
    "# Paths to Aadhaar and PAN card images\n",
    "aadhaar_image_path = \"/content/aadhar.jpg\"\n",
    "pan_image_path = \"/content/pan.jpg\""
   ]
  },
  {
   "cell_type": "code",
   "execution_count": null,
   "metadata": {},
   "outputs": [],
   "source": [
    "# Extract Aadhaar card details\n",
    "aadhaar_details = extract_details(aadhaar_image_path, \"aadhaar\")\n",
    "print(\"Aadhaar Card Details:\", aadhaar_details)"
   ]
  },
  {
   "cell_type": "code",
   "execution_count": null,
   "metadata": {},
   "outputs": [],
   "source": [
    "# Extract PAN card details\n",
    "pan_details = extract_details(pan_image_path, \"pan\")\n",
    "print(\"PAN Card Details:\", pan_details)"
   ]
  }
 ],
 "metadata": {
  "language_info": {
   "name": "python"
  }
 },
 "nbformat": 4,
 "nbformat_minor": 2
}

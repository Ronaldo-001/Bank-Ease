{
 "cells": [
  {
   "cell_type": "code",
   "execution_count": null,
   "metadata": {
    "vscode": {
     "languageId": "plaintext"
    }
   },
   "outputs": [],
   "source": [
    "!pip install easyocr\n",
    "!pip install opencv-python-headless==4.1.2.30\n",
    "!pip install Pillow\n",
    "!pip install ftfy"
   ]
  },
  {
   "cell_type": "code",
   "execution_count": null,
   "metadata": {
    "vscode": {
     "languageId": "plaintext"
    }
   },
   "outputs": [],
   "source": [
    "import json\n",
    "import cv2\n",
    "import re\n",
    "import numpy as np\n",
    "import easyocr\n",
    "reader = easyocr.Reader(['en'])"
   ]
  },
  {
   "cell_type": "code",
   "execution_count": null,
   "metadata": {
    "vscode": {
     "languageId": "plaintext"
    }
   },
   "outputs": [],
   "source": [
    "def pan_read_data(text):\n",
    "  name = None\n",
    "  fname = None\n",
    "  dob = None\n",
    "  pan = None\n",
    "  text1 = []\n",
    "  lines = text.split(',')\n",
    "  for lin in lines:\n",
    "    s = lin.strip()\n",
    "    s = lin.replace('\\n','')\n",
    "    s = s.rstrip()\n",
    "    s = s.lstrip()\n",
    "    text1.append(s)\n",
    "  text1 = list(filter(None, text1))\n",
    "  try:\n",
    "    dob = re.search(r'\\d{2}.\\d{2}.\\d{4}',text).group()\n",
    "  except:\n",
    "    pass\n",
    "  \n",
    "  try:\n",
    "    pan = re.search(r'[a-zA-Z]{5}\\d{4}[a-zA-Z]',text).group()\n",
    "  except:\n",
    "    lineno = 0\n",
    "    for wordline in text1:\n",
    "      xx = wordline.split(' ')\n",
    "      if ([w for w in xx if re.search('(Pormanam|Number|umber|Account|ccount|count|Permanent|ermanent|manent|wumm)$', w)]):\n",
    "          text1 = list(text1)\n",
    "          lineno = text1.index(wordline)            \n",
    "          pan = text1[lineno+1:][0]\n",
    "\n",
    "  lineno = 0\n",
    "  for wordline in text1:\n",
    "    xx = wordline.split(' ')\n",
    "    if ([w for w in xx if re.search('(Name|GOW|GOVT|GOVERNMENT|OVERNMENT|VERNMENT|INDIA|NDIA)$', w)]):\n",
    "      if ([w for w in xx if re.search('(Father|FATHER|Fath|ather)$', w)]):\n",
    "        text1 = list(text1)\n",
    "        lineno = text1.index(wordline)\n",
    "        fname = text1[lineno+1:][0]\n",
    "        break\n",
    "      text1 = list(text1)\n",
    "      lineno = text1.index(wordline)\n",
    "      name = text1[lineno+1:][0]\n",
    "      fname = text1[lineno+1:][1]\n",
    "                \n",
    "  try:\n",
    "# Cleaning first names\n",
    "      name = name.rstrip()\n",
    "      name = name.lstrip()\n",
    "      name = name.replace(\"8\", \"B\")\n",
    "      name = name.replace(\"0\", \"D\")\n",
    "      name = name.replace(\"6\", \"G\")\n",
    "      name = name.replace(\"1\", \"I\")\n",
    "      name = re.sub('[^a-zA-Z] +', ' ', name)\n",
    "# Cleaning Father's name\n",
    "      fname = fname.rstrip()\n",
    "      fname = fname.lstrip()\n",
    "      fname = fname.replace(\"8\", \"S\")\n",
    "      fname = fname.replace(\"0\", \"O\")\n",
    "      fname = fname.replace(\"6\", \"G\")\n",
    "      fname = fname.replace(\"1\", \"I\")\n",
    "      fname = fname.replace(\"\\\"\", \"A\")\n",
    "      fname = re.sub('[^a-zA-Z] +', ' ', fname)\n",
    "\n",
    "  except:\n",
    "          pass\n",
    "  data = {}\n",
    "  data['Name'] = name\n",
    "  data['Father Name'] = fname\n",
    "  data['Date of Birth'] = dob\n",
    "  data['PAN'] = pan\n",
    "  data['ID Type'] = \"PAN\"\n",
    "  return data"
   ]
  },
  {
   "cell_type": "code",
   "execution_count": null,
   "metadata": {
    "vscode": {
     "languageId": "plaintext"
    }
   },
   "outputs": [],
   "source": [
    "def adhaar_read_data(text):\n",
    "    name = None\n",
    "    dob = None\n",
    "    adh = None\n",
    "    sex = None\n",
    "    text1 = []\n",
    "    lines = text.split(',')\n",
    "    for lin in lines:\n",
    "      s = lin.strip()\n",
    "      s = lin.replace('\\n','')\n",
    "      s = s.rstrip()\n",
    "      s = s.lstrip()\n",
    "      text1.append(s)\n",
    "\n",
    "    if 'female' in text.lower():\n",
    "        sex = \"FEMALE\"\n",
    "    else:\n",
    "        sex = \"MALE\"\n",
    "\n",
    "    # extractin DOB\n",
    "    try:\n",
    "      dob = re.search(r'\\d{2}.\\d{2}.\\d{4}',text).group()\n",
    "    except:\n",
    "      pass\n",
    "    try:\n",
    "      adh = re.search(r'\\d{4}\\s\\d{4}\\s\\d{4}',text).group()\n",
    "    except:\n",
    "      pass\n",
    "\n",
    "    lineno = 0\n",
    "    for wordline in text1:\n",
    "      xx = wordline.split(' ')\n",
    "      if ([w for w in xx if re.search('(Govt|Government|India|Government of India|lndia|Indla|GOW|GOVT|GOVERNMENT|OVERNMENT|VERNMENT|INDIA|NDIA)$', w)]):\n",
    "          text1 = list(text1)\n",
    "          lineno = text1.index(wordline) \n",
    "          name = text1[lineno+2]           \n",
    "    \n",
    "    try:   \n",
    "\n",
    "      # Cleaning first names\n",
    "      name = name.rstrip()\n",
    "      name = name.lstrip()\n",
    "      name = name.replace(\"8\", \"B\")\n",
    "      name = name.replace(\"0\", \"D\")\n",
    "      name = name.replace(\"6\", \"G\")\n",
    "      name = name.replace(\"1\", \"I\")\n",
    "      name = re.sub('[^a-zA-Z] +', ' ', name)\n",
    "\n",
    "    except:\n",
    "      pass\n",
    "\n",
    "    data = {}\n",
    "    data['Name'] = name\n",
    "    data['Date of Birth'] = dob\n",
    "    data['Adhaar Number'] = adh\n",
    "    data['Sex'] = sex\n",
    "    data['ID Type'] = \"Adhaar\"\n",
    "    return data\n",
    "\n",
    "def detect_text_blocks(img_path):\n",
    "    detection_result = reader.detect(img_path,\n",
    "                                 width_ths=0.7, \n",
    "                                 mag_ratio=1.5\n",
    "                                 )\n",
    "    text_coordinates = detection_result[0][0]\n",
    "    return text_coordinates"
   ]
  },
  {
   "cell_type": "code",
   "execution_count": null,
   "metadata": {
    "vscode": {
     "languageId": "plaintext"
    }
   },
   "outputs": [],
   "source": [
    "def extractinfo(imgpath):\n",
    "  text_coordinates = detect_text_blocks(imgpath)\n",
    "  recognition_results = reader.recognize(imgpath,horizontal_list=text_coordinates,free_list=[])\n",
    "  text = [txt[1] for txt in recognition_results]\n",
    "  text = \",\".join(text)\n",
    "  data = None\n",
    "  if \"income\" in text.lower() or \"tax\" in text.lower() or \"department\" in text.lower():\n",
    "      data = pan_read_data(text)\n",
    "  \n",
    "  elif \"male\" in text.lower():\n",
    "      data = adhaar_read_data(text)\n",
    "  return data"
   ]
  },
  {
   "cell_type": "code",
   "execution_count": null,
   "metadata": {
    "vscode": {
     "languageId": "plaintext"
    }
   },
   "outputs": [],
   "source": [
    "imgpath = \"/content/download-aadhar-card.jpg\"\n",
    "extractinfo(imgpath)"
   ]
  },
  {
   "cell_type": "code",
   "execution_count": null,
   "metadata": {
    "vscode": {
     "languageId": "plaintext"
    }
   },
   "outputs": [],
   "source": []
  }
 ],
 "metadata": {
  "language_info": {
   "name": "python"
  }
 },
 "nbformat": 4,
 "nbformat_minor": 2
}
